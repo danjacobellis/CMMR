{
 "cells": [
  {
   "cell_type": "code",
   "execution_count": 1,
   "id": "a1e8d585-1609-43d0-8741-742a6e2ba27a",
   "metadata": {},
   "outputs": [
    {
     "name": "stderr",
     "output_type": "stream",
     "text": [
      "2023-11-20 12:27:56.417209: I tensorflow/core/util/port.cc:111] oneDNN custom operations are on. You may see slightly different numerical results due to floating-point round-off errors from different computation orders. To turn them off, set the environment variable `TF_ENABLE_ONEDNN_OPTS=0`.\n",
      "2023-11-20 12:27:56.435208: E tensorflow/compiler/xla/stream_executor/cuda/cuda_dnn.cc:9342] Unable to register cuDNN factory: Attempting to register factory for plugin cuDNN when one has already been registered\n",
      "2023-11-20 12:27:56.435221: E tensorflow/compiler/xla/stream_executor/cuda/cuda_fft.cc:609] Unable to register cuFFT factory: Attempting to register factory for plugin cuFFT when one has already been registered\n",
      "2023-11-20 12:27:56.435233: E tensorflow/compiler/xla/stream_executor/cuda/cuda_blas.cc:1518] Unable to register cuBLAS factory: Attempting to register factory for plugin cuBLAS when one has already been registered\n",
      "2023-11-20 12:27:56.438943: I tensorflow/core/platform/cpu_feature_guard.cc:182] This TensorFlow binary is optimized to use available CPU instructions in performance-critical operations.\n",
      "To enable the following instructions: AVX2 AVX_VNNI FMA, in other operations, rebuild TensorFlow with the appropriate compiler flags.\n"
     ]
    }
   ],
   "source": [
    "from datasets import load_dataset\n",
    "from transformers import AutoImageProcessor, AutoModelForImageClassification, pipeline\n",
    "import torch\n",
    "import PIL"
   ]
  },
  {
   "cell_type": "code",
   "execution_count": 2,
   "id": "d735b2cf-0104-4331-ae23-184d7985976f",
   "metadata": {},
   "outputs": [],
   "source": [
    "processor = AutoImageProcessor.from_pretrained('facebook/dinov2-giant-imagenet1k-1-layer')\n",
    "model = AutoModelForImageClassification.from_pretrained('facebook/dinov2-giant-imagenet1k-1-layer')\n",
    "model = model.to(\"cuda\")"
   ]
  },
  {
   "cell_type": "code",
   "execution_count": 3,
   "id": "369bfa6f-5eee-4ec1-aa23-646c7702e4e5",
   "metadata": {},
   "outputs": [],
   "source": [
    "imagenet = load_dataset(\"imagenet-1k\", split=\"train[:128]\")"
   ]
  },
  {
   "cell_type": "code",
   "execution_count": 4,
   "id": "e752fd7e-5265-46f1-9718-f115300d16f8",
   "metadata": {},
   "outputs": [],
   "source": [
    "def extract_dinov2_features(sample):\n",
    "    img = sample['image']\n",
    "    if (img.mode == 'L') | (img.mode == 'CMYK') | (img.mode == 'RGBA'):\n",
    "        rgbimg = PIL.Image.new(\"RGB\", img.size)\n",
    "        rgbimg.paste(img)\n",
    "        img = rgbimg\n",
    "    x = torch.tensor(processor(img)['pixel_values'][0]).unsqueeze(0).to(\"cuda\")\n",
    "    y = model.dinov2.forward(x)[0]\n",
    "    sample['cls_token'] = y[:, 0].detach()\n",
    "    sample['patch_tokens'] = y[:, 1:].detach()\n",
    "    return sample"
   ]
  },
  {
   "cell_type": "code",
   "execution_count": null,
   "id": "fa6050a0-f0e7-4938-b975-4f385ed2cfd9",
   "metadata": {},
   "outputs": [],
   "source": [
    "imagenet = imagenet.map(extract_dinov2_features)\n",
    "imagenet = imagenet.remove_columns(\"image\")\n",
    "imagenet.push_to_hub(\"danjacobellis/imagenet_dino_dry\",split=\"train\")"
   ]
  }
 ],
 "metadata": {
  "kernelspec": {
   "display_name": "Python 3 (ipykernel)",
   "language": "python",
   "name": "python3"
  },
  "language_info": {
   "codemirror_mode": {
    "name": "ipython",
    "version": 3
   },
   "file_extension": ".py",
   "mimetype": "text/x-python",
   "name": "python",
   "nbconvert_exporter": "python",
   "pygments_lexer": "ipython3",
   "version": "3.10.12"
  }
 },
 "nbformat": 4,
 "nbformat_minor": 5
}
