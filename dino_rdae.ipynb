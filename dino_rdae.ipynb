{
 "cells": [
  {
   "cell_type": "code",
   "execution_count": 1,
   "id": "5932a2e6-c54a-4a4e-bd40-361eced53a87",
   "metadata": {},
   "outputs": [],
   "source": [
    "from datasets import load_dataset\n",
    "from torch.utils.data import DataLoader\n",
    "from fastprogress.fastprogress import master_bar, progress_bar\n",
    "import numpy as np\n",
    "import torch\n",
    "import torch.nn as nn\n",
    "import torch.nn.functional as F\n",
    "import torch.optim as optim\n",
    "from compressai.models import CompressionModel\n",
    "from compressai.entropy_models import EntropyBottleneck\n",
    "from compressai.layers import GDN1"
   ]
  },
  {
   "cell_type": "code",
   "execution_count": 2,
   "id": "340ceabd-8d8c-48a5-94f0-7d0c43aafa2b",
   "metadata": {},
   "outputs": [],
   "source": [
    "def flatten_patches(sample):\n",
    "    sample['patch_tokens'] = sample['patch_tokens'][0].flatten()\n",
    "    return sample"
   ]
  },
  {
   "cell_type": "code",
   "execution_count": 3,
   "id": "fac7c657-86eb-4a15-b7ac-2503425fddfe",
   "metadata": {},
   "outputs": [
    {
     "data": {
      "application/vnd.jupyter.widget-view+json": {
       "model_id": "8a96892532d54afab66ab8e4096fc6f0",
       "version_major": 2,
       "version_minor": 0
      },
      "text/plain": [
       "Resolving data files:   0%|          | 0/44 [00:00<?, ?it/s]"
      ]
     },
     "metadata": {},
     "output_type": "display_data"
    },
    {
     "data": {
      "application/vnd.jupyter.widget-view+json": {
       "model_id": "faa52905d7fa4beea37298d7dc67f2b4",
       "version_major": 2,
       "version_minor": 0
      },
      "text/plain": [
       "Resolving data files:   0%|          | 0/44 [00:00<?, ?it/s]"
      ]
     },
     "metadata": {},
     "output_type": "display_data"
    }
   ],
   "source": [
    "vimeo6k_dino = load_dataset(\"danjacobellis/vimeo6k_dino\",split='train').with_format(\"torch\")\n",
    "vimeo6k_dino = vimeo6k_dino.remove_columns(['label','cls_token'])\n",
    "vimeo6k_dino = vimeo6k_dino.map(flatten_patches)"
   ]
  },
  {
   "cell_type": "code",
   "execution_count": 4,
   "id": "d11b961b-8b08-463e-8fd3-50f51cc597d7",
   "metadata": {},
   "outputs": [],
   "source": [
    "def conv(in_channels, out_channels, kernel_size=5, stride=2, groups=32):\n",
    "    return nn.Conv2d(\n",
    "        in_channels,\n",
    "        out_channels,\n",
    "        kernel_size=kernel_size,\n",
    "        stride=stride,\n",
    "        padding=kernel_size // 2,\n",
    "        groups=groups\n",
    "    )"
   ]
  },
  {
   "cell_type": "code",
   "execution_count": 5,
   "id": "a03b7a65-f4e0-4458-844a-0a7d4501450e",
   "metadata": {},
   "outputs": [],
   "source": [
    "def deconv(in_channels, out_channels, kernel_size=5, stride=2, groups=32):\n",
    "    return nn.ConvTranspose2d(\n",
    "        in_channels,\n",
    "        out_channels,\n",
    "        kernel_size=kernel_size,\n",
    "        stride=stride,\n",
    "        output_padding=stride - 1,\n",
    "        padding=kernel_size // 2,\n",
    "        groups=groups\n",
    "    )"
   ]
  },
  {
   "cell_type": "code",
   "execution_count": 6,
   "id": "223425d0-4085-40ad-9a2c-fe6b3d685d5a",
   "metadata": {},
   "outputs": [],
   "source": [
    "class RateDistortionAutoEncoder(CompressionModel):\n",
    "    def __init__(self, N=4096):\n",
    "        super().__init__()\n",
    "        self.entropy_bottleneck = EntropyBottleneck(N)\n",
    "        self.encode = nn.Sequential(\n",
    "            conv(1536, N, kernel_size=1, stride=1),\n",
    "            GDN1(N),\n",
    "            conv(N, N, kernel_size=5, stride=2),\n",
    "            GDN1(N),\n",
    "            conv(N, N, kernel_size=5, stride=2),\n",
    "        )\n",
    "\n",
    "        self.decode = nn.Sequential(\n",
    "            deconv(N, N, kernel_size=5, stride=2),\n",
    "            GDN1(N, inverse=True),\n",
    "            deconv(N, N, kernel_size=5, stride=2),\n",
    "            GDN1(N, inverse=True),\n",
    "            deconv(N, 1536, kernel_size=1, stride=1),\n",
    "        )\n",
    "\n",
    "    def forward(self, x):\n",
    "        y = self.encode(x)\n",
    "        y_hat, y_likelihoods = self.entropy_bottleneck(y)\n",
    "        x_hat = self.decode(y_hat)\n",
    "        return x_hat, y_likelihoods"
   ]
  },
  {
   "cell_type": "code",
   "execution_count": 7,
   "id": "07952794-2d07-4bc7-9b9f-0169fcb43661",
   "metadata": {},
   "outputs": [],
   "source": [
    "λ = 1e-6\n",
    "net = RateDistortionAutoEncoder().to(\"cuda\")\n",
    "parameters = set(p for n, p in net.named_parameters() if not n.endswith(\".quantiles\"))\n",
    "aux_parameters = set(p for n, p in net.named_parameters() if n.endswith(\".quantiles\"))\n",
    "optimizer = optim.AdamW(parameters, lr=1e-3)\n",
    "aux_optimizer = optim.AdamW(aux_parameters, lr=1e-3)"
   ]
  },
  {
   "cell_type": "code",
   "execution_count": null,
   "id": "0fcce369-e510-4abe-99cc-a96513dd39e5",
   "metadata": {},
   "outputs": [
    {
     "data": {
      "text/html": [
       "\n",
       "<style>\n",
       "    /* Turns off some styling */\n",
       "    progress {\n",
       "        /* gets rid of default border in Firefox and Opera. */\n",
       "        border: none;\n",
       "        /* Needs to be in here for Safari polyfill so background images work as expected. */\n",
       "        background-size: auto;\n",
       "    }\n",
       "    progress:not([value]), progress:not([value])::-webkit-progress-bar {\n",
       "        background: repeating-linear-gradient(45deg, #7e7e7e, #7e7e7e 10px, #5c5c5c 10px, #5c5c5c 20px);\n",
       "    }\n",
       "    .progress-bar-interrupted, .progress-bar-interrupted::-webkit-progress-bar {\n",
       "        background: #F44336;\n",
       "    }\n",
       "</style>\n"
      ],
      "text/plain": [
       "<IPython.core.display.HTML object>"
      ]
     },
     "metadata": {},
     "output_type": "display_data"
    },
    {
     "data": {
      "text/html": [
       "\n",
       "    <div>\n",
       "      <progress value='20' class='' max='200' style='width:300px; height:20px; vertical-align: middle;'></progress>\n",
       "      10.00% [20/200 24:15&lt;3:38:18]\n",
       "    </div>\n",
       "    \n",
       "\n",
       "\n",
       "    <div>\n",
       "      <progress value='9' class='' max='100' style='width:300px; height:20px; vertical-align: middle;'></progress>\n",
       "      9.00% [9/100 00:05&lt;00:56]\n",
       "    </div>\n",
       "    "
      ],
      "text/plain": [
       "<IPython.core.display.HTML object>"
      ]
     },
     "metadata": {},
     "output_type": "display_data"
    },
    {
     "data": {
      "image/png": "[encoded data removed]",
      "text/plain": [
       "<Figure size 600x400 with 1 Axes>"
      ]
     },
     "metadata": {},
     "output_type": "display_data"
    }
   ],
   "source": [
    "rate = np.array([])\n",
    "distortion = np.array([])\n",
    "epochs = 200\n",
    "mb = master_bar(range(1, epochs+1))\n",
    "mb.names = ['rate', 'distortion']\n",
    "train_loss, valid_loss = [], []\n",
    "batch_size=60\n",
    "for epoch in mb:\n",
    "    dataloader = DataLoader(vimeo6k_dino, batch_size=batch_size, shuffle=True)\n",
    "    for batch in progress_bar(dataloader, parent=mb):\n",
    "\n",
    "        optimizer.zero_grad()\n",
    "        aux_optimizer.zero_grad()\n",
    "\n",
    "        x = batch['patch_tokens'].reshape(batch_size, 1536, 18, 32)[:,:,1:-1,:].to(\"cuda\")\n",
    "\n",
    "        x_hat, y_likelihoods = net(x)\n",
    "        \n",
    "        N, C, H, W = x.size()\n",
    "        num_samples = N * C * H * W\n",
    "        bps_loss = torch.log(y_likelihoods).sum() / (-np.log(2) * num_samples)\n",
    "        rate = np.append(rate, λ*bps_loss.detach().cpu().numpy())\n",
    "        \n",
    "        mse_loss = F.mse_loss(x, x_hat)\n",
    "        distortion = np.append(distortion,mse_loss.detach().cpu().numpy())\n",
    "        \n",
    "        loss = mse_loss + λ*bps_loss\n",
    "        loss.backward()\n",
    "        optimizer.step()\n",
    "        aux_loss = net.aux_loss()\n",
    "        aux_loss.backward()\n",
    "        aux_optimizer.step()\n",
    "\n",
    "        graphs = [[range(len(rate)),np.log(rate)], [range(len(distortion)),np.log(distortion)]]\n",
    "        mb.update_graph(graphs)\n",
    "    torch.save({\n",
    "        'epoch': epoch,\n",
    "        'model_state_dict': net.state_dict(),\n",
    "        'optimizer_state_dict': optimizer.state_dict(),\n",
    "        'aux_optimizer_state_dict': aux_optimizer.state_dict(),\n",
    "        'rate': rate,\n",
    "        'distortion': distortion\n",
    "    }, f\"checkpoint_dino_rdae_{epoch}.pth\")"
   ]
  }
 ],
 "metadata": {
  "kernelspec": {
   "display_name": "Python 3 (ipykernel)",
   "language": "python",
   "name": "python3"
  },
  "language_info": {
   "codemirror_mode": {
    "name": "ipython",
    "version": 3
   },
   "file_extension": ".py",
   "mimetype": "text/x-python",
   "name": "python",
   "nbconvert_exporter": "python",
   "pygments_lexer": "ipython3",
   "version": "3.10.12"
  }
 },
 "nbformat": 4,
 "nbformat_minor": 5
}
