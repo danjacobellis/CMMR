{
 "cells": [
  {
   "cell_type": "code",
   "execution_count": 1,
   "id": "a1e8d585-1609-43d0-8741-742a6e2ba27a",
   "metadata": {},
   "outputs": [],
   "source": [
    "from datasets import load_dataset\n",
    "from transformers import AutoModel\n",
    "import torch\n",
    "from torchvision import transforms\n",
    "import PIL"
   ]
  },
  {
   "cell_type": "code",
   "execution_count": 2,
   "id": "d735b2cf-0104-4331-ae23-184d7985976f",
   "metadata": {},
   "outputs": [],
   "source": [
    "model = AutoModel.from_pretrained('facebook/dinov2-giant')\n",
    "model = model.to(\"cuda\")"
   ]
  },
  {
   "cell_type": "code",
   "execution_count": 3,
   "id": "369bfa6f-5eee-4ec1-aa23-646c7702e4e5",
   "metadata": {},
   "outputs": [
    {
     "data": {
      "application/vnd.jupyter.widget-view+json": {
       "model_id": "c4dc077705274c8cb19837132b70b4fa",
       "version_major": 2,
       "version_minor": 0
      },
      "text/plain": [
       "Resolving data files:   0%|          | 0/71 [00:00<?, ?it/s]"
      ]
     },
     "metadata": {},
     "output_type": "display_data"
    }
   ],
   "source": [
    "vimeo6k = load_dataset(\"danjacobellis/vimeo90k_triplet\", split=\"train[:6000]\")"
   ]
  },
  {
   "cell_type": "code",
   "execution_count": 4,
   "id": "e752fd7e-5265-46f1-9718-f115300d16f8",
   "metadata": {},
   "outputs": [],
   "source": [
    "def extract_dinov2_features(sample):\n",
    "    img = sample['image'].crop((0,2,448,254))\n",
    "    with torch.no_grad():\n",
    "        x = transforms.ToTensor()(img).unsqueeze(0).to(\"cuda\")\n",
    "        y = model.forward(x)[0]\n",
    "        sample['cls_token'] = y[:, 0].detach().cpu()\n",
    "        sample['patch_tokens'] = y[:, 1:].detach().cpu().reshape((1,18,32,1536)).permute((0,3,1,2))\n",
    "        return sample"
   ]
  },
  {
   "cell_type": "code",
   "execution_count": 5,
   "id": "fa6050a0-f0e7-4938-b975-4f385ed2cfd9",
   "metadata": {},
   "outputs": [],
   "source": [
    "vimeo6k_dino = vimeo6k.map(extract_dinov2_features)\n",
    "vimeo6k_dino = vimeo6k_dino.remove_columns(\"image\")"
   ]
  },
  {
   "cell_type": "code",
   "execution_count": null,
   "id": "91a17109-2738-46de-a3c5-1f6809808b5e",
   "metadata": {},
   "outputs": [
    {
     "data": {
      "application/vnd.jupyter.widget-view+json": {
       "model_id": "84c357bbeac64be3a2f6219c1719206d",
       "version_major": 2,
       "version_minor": 0
      },
      "text/plain": [
       "Pushing dataset shards to the dataset hub:   0%|          | 0/44 [00:00<?, ?it/s]"
      ]
     },
     "metadata": {},
     "output_type": "display_data"
    },
    {
     "data": {
      "application/vnd.jupyter.widget-view+json": {
       "model_id": "8ca20cf3b30f47478ac421b5d9294460",
       "version_major": 2,
       "version_minor": 0
      },
      "text/plain": [
       "Creating parquet from Arrow format:   0%|          | 0/1 [00:00<?, ?ba/s]"
      ]
     },
     "metadata": {},
     "output_type": "display_data"
    },
    {
     "data": {
      "application/vnd.jupyter.widget-view+json": {
       "model_id": "2c035240b3e543d68290ea09a3e8f44c",
       "version_major": 2,
       "version_minor": 0
      },
      "text/plain": [
       "Creating parquet from Arrow format:   0%|          | 0/1 [00:00<?, ?ba/s]"
      ]
     },
     "metadata": {},
     "output_type": "display_data"
    }
   ],
   "source": [
    "vimeo6k_dino.push_to_hub(\"danjacobellis/vimeo6k_dino\",split=\"train\")"
   ]
  },
  {
   "cell_type": "code",
   "execution_count": null,
   "id": "59c1466d-4ccd-44b8-a0be-445fab22db98",
   "metadata": {},
   "outputs": [],
   "source": [
    "download = load_dataset(\"danjacobellis/vimeo6k_dino\", split=\"train\")"
   ]
  }
 ],
 "metadata": {
  "kernelspec": {
   "display_name": "Python 3 (ipykernel)",
   "language": "python",
   "name": "python3"
  },
  "language_info": {
   "codemirror_mode": {
    "name": "ipython",
    "version": 3
   },
   "file_extension": ".py",
   "mimetype": "text/x-python",
   "name": "python",
   "nbconvert_exporter": "python",
   "pygments_lexer": "ipython3",
   "version": "3.10.12"
  }
 },
 "nbformat": 4,
 "nbformat_minor": 5
}
