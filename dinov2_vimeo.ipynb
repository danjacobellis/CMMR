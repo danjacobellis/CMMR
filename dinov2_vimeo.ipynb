{
 "cells": [
  {
   "cell_type": "code",
   "execution_count": 1,
   "id": "a1e8d585-1609-43d0-8741-742a6e2ba27a",
   "metadata": {},
   "outputs": [],
   "source": [
    "from datasets import load_dataset\n",
    "from transformers import AutoModel\n",
    "import torch\n",
    "from torchvision import transforms\n",
    "import PIL"
   ]
  },
  {
   "cell_type": "code",
   "execution_count": 2,
   "id": "d735b2cf-0104-4331-ae23-184d7985976f",
   "metadata": {},
   "outputs": [],
   "source": [
    "model = AutoModel.from_pretrained('facebook/dinov2-giant')\n",
    "model = model.to(\"cuda\")"
   ]
  },
  {
   "cell_type": "code",
   "execution_count": 3,
   "id": "369bfa6f-5eee-4ec1-aa23-646c7702e4e5",
   "metadata": {},
   "outputs": [
    {
     "data": {
      "application/vnd.jupyter.widget-view+json": {
       "model_id": "6e1ed0dd5432480884b04de9ebd80746",
       "version_major": 2,
       "version_minor": 0
      },
      "text/plain": [
       "Resolving data files:   0%|          | 0/71 [00:00<?, ?it/s]"
      ]
     },
     "metadata": {},
     "output_type": "display_data"
    }
   ],
   "source": [
    "vimeo6k = load_dataset(\"danjacobellis/vimeo90k_triplet\", split=\"train[:6000]\")"
   ]
  },
  {
   "cell_type": "code",
   "execution_count": 4,
   "id": "e752fd7e-5265-46f1-9718-f115300d16f8",
   "metadata": {},
   "outputs": [],
   "source": [
    "def extract_dinov2_features(sample):\n",
    "    img = sample['image'].crop((0,2,448,254))\n",
    "    with torch.no_grad():\n",
    "        x = transforms.ToTensor()(img).unsqueeze(0).to(\"cuda\")\n",
    "        y = model.forward(x)[0]\n",
    "        sample['cls_token'] = y[:, 0].detach().cpu()\n",
    "        sample['patch_tokens'] = y[:, 1:].detach().cpu().reshape((1,18,32,1536)).permute((0,3,1,2))\n",
    "        return sample"
   ]
  },
  {
   "cell_type": "code",
   "execution_count": null,
   "id": "fa6050a0-f0e7-4938-b975-4f385ed2cfd9",
   "metadata": {},
   "outputs": [
    {
     "data": {
      "application/vnd.jupyter.widget-view+json": {
       "model_id": "cb6e90ce81ef4408a50d3a8fcff809e8",
       "version_major": 2,
       "version_minor": 0
      },
      "text/plain": [
       "Map:   0%|          | 0/6000 [00:00<?, ? examples/s]"
      ]
     },
     "metadata": {},
     "output_type": "display_data"
    }
   ],
   "source": [
    "vimeo6k_dino = vimeo6k.map(extract_dinov2_features)\n",
    "vimeo6k_dino = vimeo6k.remove_columns(\"image\")"
   ]
  },
  {
   "cell_type": "code",
   "execution_count": null,
   "id": "91a17109-2738-46de-a3c5-1f6809808b5e",
   "metadata": {},
   "outputs": [],
   "source": [
    "vimeo6k_dino.push_to_hub(\"danjacobellis/vimeo6k_dino\",split=\"train\")"
   ]
  },
  {
   "cell_type": "code",
   "execution_count": null,
   "id": "59c1466d-4ccd-44b8-a0be-445fab22db98",
   "metadata": {},
   "outputs": [],
   "source": [
    "download = load_dataset(\"danjacobellis/vimeo6k_dino\", split=\"train\")"
   ]
  },
  {
   "cell_type": "code",
   "execution_count": null,
   "id": "cfba76e6-41eb-4232-927d-e2c65d5c0fe2",
   "metadata": {},
   "outputs": [],
   "source": []
  }
 ],
 "metadata": {
  "kernelspec": {
   "display_name": "Python 3 (ipykernel)",
   "language": "python",
   "name": "python3"
  },
  "language_info": {
   "codemirror_mode": {
    "name": "ipython",
    "version": 3
   },
   "file_extension": ".py",
   "mimetype": "text/x-python",
   "name": "python",
   "nbconvert_exporter": "python",
   "pygments_lexer": "ipython3",
   "version": "3.10.12"
  }
 },
 "nbformat": 4,
 "nbformat_minor": 5
}
