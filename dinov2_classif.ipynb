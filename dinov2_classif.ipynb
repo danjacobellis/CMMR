{
 "cells": [
  {
   "cell_type": "code",
   "execution_count": 1,
   "id": "e616163e-96df-4c8e-b63a-afe48d1fd623",
   "metadata": {},
   "outputs": [
    {
     "name": "stderr",
     "output_type": "stream",
     "text": [
      "2023-11-20 11:59:44.700028: I tensorflow/core/util/port.cc:111] oneDNN custom operations are on. You may see slightly different numerical results due to floating-point round-off errors from different computation orders. To turn them off, set the environment variable `TF_ENABLE_ONEDNN_OPTS=0`.\n",
      "2023-11-20 11:59:44.718782: E tensorflow/compiler/xla/stream_executor/cuda/cuda_dnn.cc:9342] Unable to register cuDNN factory: Attempting to register factory for plugin cuDNN when one has already been registered\n",
      "2023-11-20 11:59:44.718798: E tensorflow/compiler/xla/stream_executor/cuda/cuda_fft.cc:609] Unable to register cuFFT factory: Attempting to register factory for plugin cuFFT when one has already been registered\n",
      "2023-11-20 11:59:44.718811: E tensorflow/compiler/xla/stream_executor/cuda/cuda_blas.cc:1518] Unable to register cuBLAS factory: Attempting to register factory for plugin cuBLAS when one has already been registered\n",
      "2023-11-20 11:59:44.722293: I tensorflow/core/platform/cpu_feature_guard.cc:182] This TensorFlow binary is optimized to use available CPU instructions in performance-critical operations.\n",
      "To enable the following instructions: AVX2 AVX_VNNI FMA, in other operations, rebuild TensorFlow with the appropriate compiler flags.\n"
     ]
    }
   ],
   "source": [
    "from datasets import load_dataset\n",
    "from evaluate import evaluator\n",
    "from transformers import AutoImageProcessor, AutoModelForImageClassification, pipeline"
   ]
  },
  {
   "cell_type": "code",
   "execution_count": 8,
   "id": "c87e3cd0-da84-446d-b622-74a1eef6e105",
   "metadata": {},
   "outputs": [],
   "source": [
    "imagenet = load_dataset(\"imagenet-1k\", split=\"validation[:1000]\")"
   ]
  },
  {
   "cell_type": "code",
   "execution_count": 3,
   "id": "b193d10e-ddaa-42c1-884d-e4c48d215418",
   "metadata": {},
   "outputs": [],
   "source": [
    "task_evaluator = evaluator(\"image-classification\")"
   ]
  },
  {
   "cell_type": "code",
   "execution_count": 4,
   "id": "53df701c-6d99-4c1e-88ea-1cdc52fb8586",
   "metadata": {},
   "outputs": [],
   "source": [
    "processor = AutoImageProcessor.from_pretrained('facebook/dinov2-giant-imagenet1k-1-layer')\n",
    "model = AutoModelForImageClassification.from_pretrained('facebook/dinov2-giant-imagenet1k-1-layer')\n",
    "pipe = pipeline(\n",
    "            task=\"image-classification\",\n",
    "            model=model,\n",
    "            image_processor=processor,\n",
    "            device=\"cuda:0\"\n",
    "        )"
   ]
  },
  {
   "cell_type": "code",
   "execution_count": 5,
   "id": "b2167df2-29a8-4657-a818-8ddd051f30d2",
   "metadata": {},
   "outputs": [],
   "source": [
    "resnet = AutoModelForImageClassification.from_pretrained(\"microsoft/resnet-50\")\n",
    "label2id = resnet.config.label2id\n",
    "del resnet"
   ]
  },
  {
   "cell_type": "code",
   "execution_count": 9,
   "id": "c3275661-d22b-4cb9-b7b3-c84bf26edbe8",
   "metadata": {},
   "outputs": [
    {
     "name": "stdout",
     "output_type": "stream",
     "text": [
      "CPU times: user 2min 49s, sys: 222 ms, total: 2min 49s\n",
      "Wall time: 33.1 s\n"
     ]
    }
   ],
   "source": [
    "%%time\n",
    "results = task_evaluator.compute(\n",
    "                model_or_pipeline=pipe,\n",
    "                data=imagenet,\n",
    "                metric=\"accuracy\",\n",
    "                label_mapping=label2id)"
   ]
  },
  {
   "cell_type": "code",
   "execution_count": 10,
   "id": "90981495-ec63-4fe5-b837-558930a9b3d0",
   "metadata": {},
   "outputs": [
    {
     "data": {
      "text/plain": [
       "{'accuracy': 0.858,\n",
       " 'total_time_in_seconds': 32.639526112005115,\n",
       " 'samples_per_second': 30.637699719304162,\n",
       " 'latency_in_seconds': 0.032639526112005116}"
      ]
     },
     "execution_count": 10,
     "metadata": {},
     "output_type": "execute_result"
    }
   ],
   "source": [
    "results"
   ]
  }
 ],
 "metadata": {
  "kernelspec": {
   "display_name": "Python 3 (ipykernel)",
   "language": "python",
   "name": "python3"
  },
  "language_info": {
   "codemirror_mode": {
    "name": "ipython",
    "version": 3
   },
   "file_extension": ".py",
   "mimetype": "text/x-python",
   "name": "python",
   "nbconvert_exporter": "python",
   "pygments_lexer": "ipython3",
   "version": "3.10.12"
  }
 },
 "nbformat": 4,
 "nbformat_minor": 5
}
